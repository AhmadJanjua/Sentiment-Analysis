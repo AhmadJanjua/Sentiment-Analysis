{
  "cells": [
    {
      "cell_type": "markdown",
      "metadata": {
        "id": "eTXfcKEJB12W"
      },
      "source": [
        "# Environment Setup\n",
        "Get necessary packages and setup google colab."
      ]
    },
    {
      "cell_type": "code",
      "execution_count": null,
      "metadata": {
        "colab": {
          "base_uri": "https://localhost:8080/"
        },
        "collapsed": true,
        "id": "HNkQ2CxeDwwF",
        "outputId": "b3faa7c0-0937-4314-ed53-6366359f652c"
      },
      "outputs": [],
      "source": [
        "# download spark in google colab\n",
        "!pip install pyspark findspark recommenders"
      ]
    },
    {
      "cell_type": "code",
      "execution_count": 2,
      "metadata": {
        "colab": {
          "base_uri": "https://localhost:8080/"
        },
        "id": "PibkAQQhD8tT",
        "outputId": "6ad9b83b-d25d-4e6c-9280-caf19a4626c1"
      },
      "outputs": [
        {
          "name": "stdout",
          "output_type": "stream",
          "text": [
            "Drive already mounted at /content/drive; to attempt to forcibly remount, call drive.mount(\"/content/drive\", force_remount=True).\n"
          ]
        }
      ],
      "source": [
        "# for hashing uri\n",
        "from hashlib import sha256\n",
        "\n",
        "# connect google drive for data\n",
        "from google.colab import drive\n",
        "\n",
        "# mount google drive\n",
        "drive.mount('/content/drive')\n",
        "\n",
        "# get spark\n",
        "import findspark\n",
        "from pyspark.ml.recommendation import ALS\n",
        "from pyspark.ml.feature import StringIndexer\n",
        "from pyspark.sql import SparkSession, functions as F\n",
        "from pyspark.sql.functions import explode, col, udf, countDistinct\n",
        "\n",
        "# initialize the spark environment\n",
        "findspark.init()\n",
        "spark = SparkSession.builder.appName(\"SongRecommender\").getOrCreate()\n",
        "\n",
        "# variable to select test or real training environment\n",
        "IS_TESTING = False"
      ]
    },
    {
      "cell_type": "markdown",
      "metadata": {
        "id": "VtdpatzlB4Z1"
      },
      "source": [
        "# Extract\n",
        "Load in the raw data from the dataset."
      ]
    },
    {
      "cell_type": "code",
      "execution_count": null,
      "metadata": {
        "id": "EyJbgbU2ED7u"
      },
      "outputs": [],
      "source": [
        "# select dataset\n",
        "if IS_TESTING:\n",
        "    # one dataset\n",
        "    data_path = r\"path/data/mpd.slice.0-999.json\"\n",
        "else:\n",
        "    # select all datasets\n",
        "    data_path = r\"path/data/*.json\"\n",
        "\n",
        "# extract json from each file\n",
        "raw_json = spark.read.option(\"multiline\", \"true\") \\\n",
        "    .option(\"mode\", \"PERMISSIVE\") \\\n",
        "    .json(data_path)"
      ]
    },
    {
      "cell_type": "markdown",
      "metadata": {
        "id": "ysDb9ReKB_GY"
      },
      "source": [
        "# Inspect\n",
        "View the raw data collected and select the features important to the analysis.\n",
        "\n"
      ]
    },
    {
      "cell_type": "code",
      "execution_count": 4,
      "metadata": {
        "colab": {
          "base_uri": "https://localhost:8080/"
        },
        "id": "gI0koArlGFZb",
        "outputId": "c4184265-97d6-4acd-faf6-6114e08563df"
      },
      "outputs": [
        {
          "name": "stdout",
          "output_type": "stream",
          "text": [
            "root\n",
            " |-- info: struct (nullable = true)\n",
            " |    |-- generated_on: string (nullable = true)\n",
            " |    |-- slice: string (nullable = true)\n",
            " |    |-- version: string (nullable = true)\n",
            " |-- playlists: array (nullable = true)\n",
            " |    |-- element: struct (containsNull = true)\n",
            " |    |    |-- collaborative: string (nullable = true)\n",
            " |    |    |-- description: string (nullable = true)\n",
            " |    |    |-- duration_ms: long (nullable = true)\n",
            " |    |    |-- modified_at: long (nullable = true)\n",
            " |    |    |-- name: string (nullable = true)\n",
            " |    |    |-- num_albums: long (nullable = true)\n",
            " |    |    |-- num_artists: long (nullable = true)\n",
            " |    |    |-- num_edits: long (nullable = true)\n",
            " |    |    |-- num_followers: long (nullable = true)\n",
            " |    |    |-- num_tracks: long (nullable = true)\n",
            " |    |    |-- pid: long (nullable = true)\n",
            " |    |    |-- tracks: array (nullable = true)\n",
            " |    |    |    |-- element: struct (containsNull = true)\n",
            " |    |    |    |    |-- album_name: string (nullable = true)\n",
            " |    |    |    |    |-- album_uri: string (nullable = true)\n",
            " |    |    |    |    |-- artist_name: string (nullable = true)\n",
            " |    |    |    |    |-- artist_uri: string (nullable = true)\n",
            " |    |    |    |    |-- duration_ms: long (nullable = true)\n",
            " |    |    |    |    |-- pos: long (nullable = true)\n",
            " |    |    |    |    |-- track_name: string (nullable = true)\n",
            " |    |    |    |    |-- track_uri: string (nullable = true)\n",
            "\n"
          ]
        }
      ],
      "source": [
        "# display schema\n",
        "raw_json.printSchema()"
      ]
    },
    {
      "cell_type": "markdown",
      "metadata": {
        "id": "TqfpLNwTILPs"
      },
      "source": [
        "What data is important?\n",
        "\n",
        "1. pid (playlist ID): useful to uniquely identify playlists\n",
        "2. name (playlist name): for readability\n",
        "3. track_uri (track resource identifier): useful to uniquely identify songs.\n",
        "4. track_name: for readability\n",
        "5. artist_uri (artist resource identifier): useful for uniqely identifying artist. Beneficial to prevent over-recommneding popular artists.\n",
        "6. artist_name: for readability\n"
      ]
    },
    {
      "cell_type": "markdown",
      "metadata": {
        "id": "Kdd1YFtcB6Et"
      },
      "source": [
        "# Transform\n",
        "Tabularize the non-relational data. Perform some cleaning to ensure that the data is good for training. Remove features deemed unnecessary to speed up the training."
      ]
    },
    {
      "cell_type": "code",
      "execution_count": 5,
      "metadata": {
        "id": "R23XI5yOKJnN"
      },
      "outputs": [],
      "source": [
        "# Setup helper to decode the uri to an integer\n",
        "\n",
        "# convert the uri into a hash\n",
        "def map_uri(string: str) -> int:\n",
        "    '''\n",
        "    Context:\n",
        "    Since the uris are 23 base-64 characters they are not possible to be mapped\n",
        "    to integers in spark. The next best solution is to use sha256 which has an\n",
        "    even distribution and binning them to integer range supported in ALS models.\n",
        "    The base two modulo allows for fast binning operation.\n",
        "    '''\n",
        "    return int(sha256(string.encode()).hexdigest(), 16) % (2**31)\n",
        "\n",
        "# make decode a user defined\n",
        "decode_uri = udf(lambda x: map_uri(x.split(\":\")[-1]))"
      ]
    },
    {
      "cell_type": "code",
      "execution_count": 6,
      "metadata": {
        "id": "3MRHwa8W-OlG"
      },
      "outputs": [],
      "source": [
        "from pyspark.sql.functions import concat_ws\n",
        "\n",
        "# Transform JSON -> table with only selected fields\n",
        "\n",
        "# 1. tabularize the playlist key\n",
        "raw_df = raw_json.select(explode(\"playlists\").alias(\"playlist\"))\n",
        "\n",
        "# 2. filter to only keep relevant columns\n",
        "raw_df = raw_df.select(\n",
        "    col(\"playlist.pid\").alias(\"p_id\"),\n",
        "    col(\"playlist.name\").alias(\"p_name\"),\n",
        "    col(\"playlist.modified_at\").alias(\"modified_at\"),\n",
        "    explode(col(\"playlist.tracks\")).alias(\"tracks\"))\\\n",
        "    .select(\n",
        "        col(\"p_id\"),\n",
        "        col(\"p_name\"),\n",
        "        col(\"modified_at\"),\n",
        "        col(\"tracks.track_uri\").alias(\"track_uri\"),\n",
        "        col(\"tracks.track_name\").alias(\"track_name\"),\n",
        "        col(\"tracks.artist_uri\").alias(\"artist_uri\"),\n",
        "        col(\"tracks.artist_name\").alias(\"artist_name\")\n",
        "    )\n",
        "\n",
        "# 3. decode the uri\n",
        "raw_df = raw_df.withColumn(\"track_id\", decode_uri(col(\"track_uri\")))\n",
        "\n",
        "# NOTE: the data is clean - no nulls, unique playlist-track pairs\n",
        "# cleaning is not necessary"
      ]
    },
    {
      "cell_type": "markdown",
      "metadata": {
        "id": "MqJ_05qRB8bB"
      },
      "source": [
        "# Inspect\n",
        "View the cleaned transformed, clean data.\n"
      ]
    },
    {
      "cell_type": "code",
      "execution_count": 7,
      "metadata": {
        "colab": {
          "base_uri": "https://localhost:8080/"
        },
        "id": "LKwAnfeZQT6O",
        "outputId": "069ab4e8-9801-4b5b-c970-b75bce2d2d10"
      },
      "outputs": [
        {
          "name": "stdout",
          "output_type": "stream",
          "text": [
            "+-------+------------------+------------------+-------------------+--------------------+--------------------+--------------------+-----------+--------------------+\n",
            "|summary|              p_id|            p_name|        modified_at|           track_uri|          track_name|          artist_uri|artist_name|            track_id|\n",
            "+-------+------------------+------------------+-------------------+--------------------+--------------------+--------------------+-----------+--------------------+\n",
            "|  count|           3344374|           3344374|            3344374|             3344374|             3344374|             3344374|    3344374|             3344374|\n",
            "|   mean|25029.666755871203|1316.9330318329428|1.480902844315857E9|                NULL|                 NaN|                NULL|   Infinity|1.0794762524261513E9|\n",
            "| stddev| 14432.17233952735| 933.5519478170474|3.495759582354033E7|                NULL|                 NaN|                NULL|        NaN| 6.200548846118802E8|\n",
            "|    min|                 0|               Mix|         1310601600|spotify:track:000...|!Dios Mio! El Dia...|spotify:artist:00...|        !!!|          1000011715|\n",
            "|    max|             49999|              🦄🦄|         1509494400|spotify:track:7zz...|       힐끔힐끔 Peep|spotify:artist:7z...|   ２８１４|           999993077|\n",
            "+-------+------------------+------------------+-------------------+--------------------+--------------------+--------------------+-----------+--------------------+\n",
            "\n"
          ]
        }
      ],
      "source": [
        "# describe the dataframe\n",
        "raw_df.describe().show()"
      ]
    },
    {
      "cell_type": "code",
      "execution_count": 8,
      "metadata": {
        "colab": {
          "base_uri": "https://localhost:8080/"
        },
        "id": "XROqTS8iSXbg",
        "outputId": "26b0a3cb-a3fa-4b64-8485-2569340732f7"
      },
      "outputs": [
        {
          "name": "stdout",
          "output_type": "stream",
          "text": [
            "+-----+------+-----------+--------------------+--------------------+--------------------+--------------+----------+\n",
            "| p_id|p_name|modified_at|           track_uri|          track_name|          artist_uri|   artist_name|  track_id|\n",
            "+-----+------+-----------+--------------------+--------------------+--------------------+--------------+----------+\n",
            "|45000| Ratch| 1508976000|spotify:track:7te...|         ***Flawless|spotify:artist:6v...|       Beyoncé|1528394279|\n",
            "|45000| Ratch| 1508976000|spotify:track:7DT...|           Lifestyle|spotify:artist:6h...|     Rich Gang|1739692796|\n",
            "|45000| Ratch| 1508976000|spotify:track:5NQ...|679 (feat. Remy B...|spotify:artist:6P...|     Fetty Wap|1942972086|\n",
            "|45000| Ratch| 1508976000|spotify:track:6lb...|Up Down (Do This ...|spotify:artist:3a...|        T-Pain|1043994298|\n",
            "|45000| Ratch| 1508976000|spotify:track:3G7...|         Classic Man|spotify:artist:4T...|       Jidenna| 874172154|\n",
            "|45000| Ratch| 1508976000|spotify:track:27G...|             Jumpman|spotify:artist:3T...|         Drake|1262786107|\n",
            "|45000| Ratch| 1508976000|spotify:track:4kj...|Trophy (feat. Rah...|spotify:artist:6a...|         Kayjo|1599644546|\n",
            "|45000| Ratch| 1508976000|spotify:track:0f8...|            Drippin'|spotify:artist:50...|    Young Thug| 975574639|\n",
            "|45000| Ratch| 1508976000|spotify:track:1qP...|F Cancer (Boosie)...|spotify:artist:50...|    Young Thug|1094870639|\n",
            "|45000| Ratch| 1508976000|spotify:track:4KW...|Father Stretch My...|spotify:artist:5K...|    Kanye West| 681606265|\n",
            "|45000| Ratch| 1508976000|spotify:track:4qY...|          Highlights|spotify:artist:5K...|    Kanye West| 346112541|\n",
            "|45000| Ratch| 1508976000|spotify:track:2CH...|            30 Hours|spotify:artist:5K...|    Kanye West|1501642226|\n",
            "|45000| Ratch| 1508976000|spotify:track:0zL...|No More Parties I...|spotify:artist:5K...|    Kanye West| 865306532|\n",
            "|45000| Ratch| 1508976000|spotify:track:4cg...|              Digits|spotify:artist:50...|    Young Thug|1454236482|\n",
            "|45000| Ratch| 1508976000|spotify:track:7zB...|     Uber Everywhere|spotify:artist:5S...|     MadeinTYO|1376448583|\n",
            "|45000| Ratch| 1508976000|spotify:track:39h...|Why You Always Ha...|spotify:artist:0A...|            YG|1239564309|\n",
            "|45000| Ratch| 1508976000|spotify:track:20d...|   pick up the phone|spotify:artist:50...|    Young Thug|1362859269|\n",
            "|45000| Ratch| 1508976000|spotify:track:6BO...|             Wake Up|spotify:artist:6P...|     Fetty Wap|2015811733|\n",
            "|45000| Ratch| 1508976000|spotify:track:5MD...|            Hercules|spotify:artist:50...|    Young Thug| 931172309|\n",
            "|45000| Ratch| 1508976000|spotify:track:3I0...|untitled 02 | 06....|spotify:artist:2Y...|Kendrick Lamar| 549071386|\n",
            "+-----+------+-----------+--------------------+--------------------+--------------------+--------------+----------+\n",
            "only showing top 20 rows\n",
            "\n"
          ]
        }
      ],
      "source": [
        "# show example dataframe\n",
        "raw_df.show()"
      ]
    },
    {
      "cell_type": "code",
      "execution_count": 9,
      "metadata": {
        "colab": {
          "base_uri": "https://localhost:8080/"
        },
        "id": "S3vA_5I4gtKM",
        "outputId": "daf6c0d8-2a88-4970-f09a-6f5247756bf1"
      },
      "outputs": [
        {
          "name": "stdout",
          "output_type": "stream",
          "text": [
            "+-----+------+-----------+---------+----------+----------+-----------+--------+\n",
            "| p_id|p_name|modified_at|track_uri|track_name|artist_uri|artist_name|track_id|\n",
            "+-----+------+-----------+---------+----------+----------+-----------+--------+\n",
            "|50000| 19156|       1846|   461880|    336535|     80483|      79327|  461832|\n",
            "+-----+------+-----------+---------+----------+----------+-----------+--------+\n",
            "\n"
          ]
        }
      ],
      "source": [
        "# show the number of unique values in each column\n",
        "raw_df.agg(*(\n",
        "    [countDistinct(c).alias(c) for c in raw_df.columns]\n",
        ")).show()"
      ]
    },
    {
      "cell_type": "code",
      "execution_count": 10,
      "metadata": {
        "colab": {
          "base_uri": "https://localhost:8080/"
        },
        "id": "yT0Yt2fm6h4A",
        "outputId": "bcc020b8-7ec9-4edd-c35d-6a854b0c8cbc"
      },
      "outputs": [
        {
          "data": {
            "text/plain": [
              "[('p_id', 'bigint'),\n",
              " ('p_name', 'string'),\n",
              " ('modified_at', 'bigint'),\n",
              " ('track_uri', 'string'),\n",
              " ('track_name', 'string'),\n",
              " ('artist_uri', 'string'),\n",
              " ('artist_name', 'string'),\n",
              " ('track_id', 'string')]"
            ]
          },
          "execution_count": 10,
          "metadata": {},
          "output_type": "execute_result"
        }
      ],
      "source": [
        "# show data types\n",
        "raw_df.dtypes"
      ]
    },
    {
      "cell_type": "markdown",
      "metadata": {
        "id": "fgCbGSX23P_N"
      },
      "source": [
        "# Create Lookup tables"
      ]
    },
    {
      "cell_type": "code",
      "execution_count": 11,
      "metadata": {
        "colab": {
          "base_uri": "https://localhost:8080/"
        },
        "id": "Ag1PEwQu3PA2",
        "outputId": "17ee5eb6-5625-4413-9b5e-43953d5009d0"
      },
      "outputs": [
        {
          "name": "stdout",
          "output_type": "stream",
          "text": [
            "+----------+--------------------+--------------------+--------------------+-------------------+\n",
            "|  track_id|           track_uri|          track_name|          artist_uri|        artist_name|\n",
            "+----------+--------------------+--------------------+--------------------+-------------------+\n",
            "|1000018913|spotify:track:3vQ...|    Suspicious Minds|spotify:artist:3K...|    Dee Dee Warwick|\n",
            "|1000034681|spotify:track:3KG...|Phantom Of The Op...|spotify:artist:7e...|              ERock|\n",
            "| 100004043|spotify:track:339...|Your Love Gets Sw...|spotify:artist:1p...|       Finley Quaye|\n",
            "|1000042406|spotify:track:5zh...|   Isolate - Ambient|spotify:artist:3O...|               Moby|\n",
            "|1000049331|spotify:track:45o...|Your Love Is Extr...|spotify:artist:6e...|     Casting Crowns|\n",
            "|1000053224|spotify:track:7Bm...|             Tool Up|spotify:artist:6z...|            Blueboy|\n",
            "| 100005557|spotify:track:497...|California - Tcha...|spotify:artist:0L...|     Phantom Planet|\n",
            "|1000056024|spotify:track:6nP...|          Rosa Parks|spotify:artist:71...|The Dartmouth Aires|\n",
            "|1000067115|spotify:track:7po...|                Vive|spotify:artist:61...|              Kabah|\n",
            "| 100007698|spotify:track:2qG...|Excitable Boy [Li...|spotify:artist:3m...|       Warren Zevon|\n",
            "|1000078689|spotify:track:7cs...|    View From Heaven|spotify:artist:3z...|         Yellowcard|\n",
            "|1000080127|spotify:track:5U0...|          Bumble Bee|spotify:artist:2q...|               Zedd|\n",
            "|1000082224|spotify:track:41U...|            Hey Mama|spotify:artist:1y...|The Black Eyed Peas|\n",
            "|1000085451|spotify:track:6qb...|   El Chaeb El Souri|spotify:artist:03...|        Anas Kareem|\n",
            "|1000090975|spotify:track:16V...|    Pour Les Oiseaux|spotify:artist:0I...|   Sylvain Chauveau|\n",
            "|1000107761|spotify:track:6TD...|               North|spotify:artist:5D...|              Yotto|\n",
            "|1000119330|spotify:track:4HZ...|Stolen Car - Mico...|spotify:artist:0e...|      Mylène Farmer|\n",
            "|1000125268|spotify:track:5k4...|         Lost In You|spotify:artist:34...|        Pacific Dub|\n",
            "|1000133845|spotify:track:7sM...|  Deep In Your Heart|spotify:artist:3C...|      Young Divines|\n",
            "|1000162753|spotify:track:5qx...|   It's Me, It's You|spotify:artist:32...|Atlantic Connection|\n",
            "+----------+--------------------+--------------------+--------------------+-------------------+\n",
            "only showing top 20 rows\n",
            "\n"
          ]
        }
      ],
      "source": [
        "# track look up table\n",
        "track_lut = raw_df.select(\n",
        "    col(\"track_id\"),\n",
        "    col(\"track_uri\"),\n",
        "    col(\"track_name\"),\n",
        "    col(\"artist_uri\"),\n",
        "    col(\"artist_name\"),\n",
        "    col(\"modified_at\")\n",
        ")\n",
        "\n",
        "# sort by modified at\n",
        "track_lut = track_lut.sort([\"track_id\", \"modified_at\"], ascending=False)\n",
        "\n",
        "# drop duplicated\n",
        "track_lut = track_lut.dropDuplicates([\"track_id\"])\n",
        "\n",
        "# drop modified_at\n",
        "track_lut = track_lut.drop(\"modified_at\")\n",
        "\n",
        "track_lut.show()"
      ]
    },
    {
      "cell_type": "markdown",
      "metadata": {
        "id": "NY8n5OCrDO-f"
      },
      "source": [
        "# Machine Learning"
      ]
    },
    {
      "cell_type": "markdown",
      "metadata": {
        "id": "kthak10g66tj"
      },
      "source": [
        "### Training Dataframe"
      ]
    },
    {
      "cell_type": "code",
      "execution_count": null,
      "metadata": {
        "colab": {
          "base_uri": "https://localhost:8080/"
        },
        "id": "8uj6IfYDTiSX",
        "outputId": "0a93b1b3-2730-4469-8df2-6c690f56369e"
      },
      "outputs": [
        {
          "name": "stdout",
          "output_type": "stream",
          "text": [
            "+--------------------+-----+-----------+-----------+--------------------+--------------------+-------------------+----------+-----+------+\n",
            "|          artist_uri| p_id|     p_name|modified_at|           track_uri|          track_name|        artist_name|  track_id|count|rating|\n",
            "+--------------------+-----+-----------+-----------+--------------------+--------------------+-------------------+----------+-----+------+\n",
            "|spotify:artist:00...|44663|    Hmmm...| 1507593600|spotify:track:2xN...|The Third Untitle...|            Kosmose| 507534104|    2|     1|\n",
            "|spotify:artist:00...|44663|    Hmmm...| 1507593600|spotify:track:7BO...|The Tenth Untitle...|            Kosmose|1580668254|    2|     1|\n",
            "|spotify:artist:00...|10420|Study Music| 1474329600|spotify:track:4og...|        Tango en Sky|       Roland Dyens| 240362849|    1|     1|\n",
            "|spotify:artist:00...|36125|     Bandas| 1470096000|spotify:track:2hj...|        Como La Luna|         Banda Boom|1803040577|    3|     1|\n",
            "|spotify:artist:00...|36125|     Bandas| 1470096000|spotify:track:0w6...|   El Ranchero Chido|         Banda Boom| 837076412|    3|     1|\n",
            "|spotify:artist:00...|36125|     Bandas| 1470096000|spotify:track:1Ho...| Esa Chica Me Vacila|         Banda Boom|1895791234|    3|     1|\n",
            "|spotify:artist:00...|21479|Summer 2016| 1473379200|spotify:track:57h...|Things Are Moving...|       Angry Angles|1739474955|    1|     1|\n",
            "|spotify:artist:00...| 7874|    Singing| 1509321600|spotify:track:4lX...|Sweet Dreams...(R...|            Zepfire| 283724534|    7|     1|\n",
            "|spotify:artist:00...| 5519|   Skrillex| 1474588800|spotify:track:1Nh...|Monster Dubstep (...|            Zepfire|1415047622|    7|     1|\n",
            "|spotify:artist:00...|20066|       gym!| 1506556800|spotify:track:1Nh...|Monster Dubstep (...|            Zepfire|1415047622|    7|     1|\n",
            "|spotify:artist:00...| 6054|      Bass | 1397433600|spotify:track:1Nh...|Monster Dubstep (...|            Zepfire|1415047622|    7|     1|\n",
            "|spotify:artist:00...| 2641|    Turn up| 1452816000|spotify:track:1Nh...|Monster Dubstep (...|            Zepfire|1415047622|    7|     1|\n",
            "|spotify:artist:00...|36736|    Dubstep| 1424995200|spotify:track:1Nh...|Monster Dubstep (...|            Zepfire|1415047622|    7|     1|\n",
            "|spotify:artist:00...| 9632|   Dub step| 1421971200|spotify:track:1Nh...|Monster Dubstep (...|            Zepfire|1415047622|    7|     1|\n",
            "|spotify:artist:00...|38855|      Irish| 1461283200|spotify:track:0nG...|        Quart Of Gin|      The Prodigals|1159688818|    2|     1|\n",
            "|spotify:artist:00...|38855|      Irish| 1461283200|spotify:track:4tV...|   The Morning After|      The Prodigals|1902341660|    2|     1|\n",
            "|spotify:artist:00...| 4075|        420| 1509062400|spotify:track:4rd...| Virgin Islands Nice|           Pressure| 586672230|    3|     1|\n",
            "|spotify:artist:00...|  125|     summer| 1508371200|spotify:track:4g5...|       Ina Dancehall|           Pressure| 376947367|    3|     1|\n",
            "|spotify:artist:00...| 9867|       asia| 1485734400|spotify:track:4o6...|  Love And Affection|           Pressure|1835841731|    3|     1|\n",
            "|spotify:artist:00...|23334|       Flow| 1509321600|spotify:track:5w9...|              Beyond|Fabian Luttenberger|1747766015|    2|     1|\n",
            "+--------------------+-----+-----------+-----------+--------------------+--------------------+-------------------+----------+-----+------+\n",
            "only showing top 20 rows\n",
            "\n"
          ]
        }
      ],
      "source": [
        "from pyspark.sql.functions import lit\n",
        "\n",
        "# create a rating column with 1\n",
        "track_popularity = raw_df.groupBy(\"artist_uri\").count()\n",
        "training_df = raw_df.join(track_popularity, on=\"artist_uri\")\n",
        "\n",
        "# rating column as 1\n",
        "training_df = training_df.withColumn(\"rating\", lit(1))\n",
        "\n",
        "# # convert track_id to integer\n",
        "training_df = training_df.withColumn(\"track_id\", training_df[\"track_id\"].cast('integer'))\n",
        "\n",
        "training_df.show()"
      ]
    },
    {
      "cell_type": "code",
      "execution_count": 13,
      "metadata": {
        "colab": {
          "base_uri": "https://localhost:8080/"
        },
        "id": "rHvrPea4zqWV",
        "outputId": "e595a81f-6220-42b1-da74-916b4e0a097c"
      },
      "outputs": [
        {
          "name": "stdout",
          "output_type": "stream",
          "text": [
            "+----------+----+------+-----------+---------+----------+-----------+--------+-----+------+\n",
            "|artist_uri|p_id|p_name|modified_at|track_uri|track_name|artist_name|track_id|count|rating|\n",
            "+----------+----+------+-----------+---------+----------+-----------+--------+-----+------+\n",
            "|         0|   0|     0|          0|        0|         2|          0|       0|    0|     0|\n",
            "+----------+----+------+-----------+---------+----------+-----------+--------+-----+------+\n",
            "\n"
          ]
        }
      ],
      "source": [
        "# show number of nans in each column\n",
        "training_df.select(\n",
        "    [F.count(F.when(F.isnan(c) | F.col(c).isNull(), c)).alias(c) for c in training_df.columns]\n",
        ").show()"
      ]
    },
    {
      "cell_type": "markdown",
      "metadata": {
        "id": "wZ5OcXPU7Cbp"
      },
      "source": [
        "### Train Model"
      ]
    },
    {
      "cell_type": "code",
      "execution_count": 14,
      "metadata": {
        "id": "lQq7501uTs__"
      },
      "outputs": [],
      "source": [
        "# Initialize the ALS model with implicit feedback\n",
        "als = ALS(\n",
        "    userCol=\"p_id\",\n",
        "    itemCol=\"track_id\",\n",
        "    ratingCol=\"rating\",\n",
        "    implicitPrefs=True,\n",
        "    coldStartStrategy=\"drop\",\n",
        "    maxIter=10,\n",
        "    regParam=0.1,\n",
        "    alpha=1.0\n",
        ")\n",
        "\n",
        "# Fit the model\n",
        "model = als.fit(training_df)"
      ]
    },
    {
      "cell_type": "markdown",
      "metadata": {
        "id": "TDeMlk9q-eRb"
      },
      "source": [
        "### Get Recommendations"
      ]
    },
    {
      "cell_type": "code",
      "execution_count": 15,
      "metadata": {
        "id": "xUlW-DW8T1xD"
      },
      "outputs": [],
      "source": [
        "# Generate top 10 recommendations for each playlist\n",
        "rec_json = model.recommendForAllUsers(10)"
      ]
    },
    {
      "cell_type": "code",
      "execution_count": 16,
      "metadata": {
        "colab": {
          "base_uri": "https://localhost:8080/"
        },
        "id": "IqFklGMA1ct4",
        "outputId": "a540cb7b-3bca-467a-a330-ba36c5cde238"
      },
      "outputs": [
        {
          "name": "stdout",
          "output_type": "stream",
          "text": [
            "+----------+----+------------+------------------------------------+-----------------------------+-------------------------------------+----------------------------+\n",
            "|track_id  |p_id|rating      |track_uri                           |track_name                   |artist_uri                           |artist_name                 |\n",
            "+----------+----+------------+------------------------------------+-----------------------------+-------------------------------------+----------------------------+\n",
            "|64861707  |2   |0.00195412  |spotify:track:6D0b04NJIKfEMg040WioJQ|Issues                       |spotify:artist:0ZED1XzwlLHW4ZaG4lOT6m|Julia Michaels              |\n",
            "|107761059 |3   |0.018479995 |spotify:track:5JuA3wlm0kn7IHfbeHV0i6|All I Want                   |spotify:artist:4BxCuXFJrSWGi1KHcVqaU4|Kodaline                    |\n",
            "|159134787 |0   |0.3175912   |spotify:track:5i66xrvSh1MjjyDd6zcwgj|Umbrella                     |spotify:artist:5pKCCKE2ajJHZ9KAiaK11H|Rihanna                     |\n",
            "|166464816 |2   |0.0019369961|spotify:track:0KKkJNfGyhkQ5aFogxQAPU|That's What I Like           |spotify:artist:0du5cEVh5yTK9QJze8zA0C|Bruno Mars                  |\n",
            "|616045367 |1   |0.20829783  |spotify:track:40riOy7x9W7GXjyGp4pjAv|Hotel California - Remastered|spotify:artist:0ECwFtbIWEVNwjlrfc6xoL|Eagles                      |\n",
            "|645898042 |3   |0.01717986  |spotify:track:6vECYJHxYmm3Ydt3fF01pE|Stolen Dance                 |spotify:artist:1hzfo8twXdOegF3xireCYs|Milky Chance                |\n",
            "|714984280 |2   |0.0019610247|spotify:track:6RUKPb4LETWmmr3iAEQktW|Something Just Like This     |spotify:artist:69GGBxA162lTqCwzJG5jLp|The Chainsmokers            |\n",
            "|755982110 |4   |0.07551024  |spotify:track:12qZHAeOyTf93YAWvGDTat|All The Small Things         |spotify:artist:6FBDaR13swtiWwGhX1WQsP|blink-182                   |\n",
            "|820486767 |0   |0.39510128  |spotify:track:0XUfyU2QviPAs6bxSpXYG4|Yeah!                        |spotify:artist:23zg3TcAtWQy7J6upgbUnj|Usher                       |\n",
            "|1083142809|2   |0.0020941838|spotify:track:7BKLCZ1jbUBVqRi2FVlTVw|Closer                       |spotify:artist:69GGBxA162lTqCwzJG5jLp|The Chainsmokers            |\n",
            "|1116104643|0   |0.3223463   |spotify:track:2q4rjDy9WhaN3o9MvDbO21|Kiss Me Thru The Phone       |spotify:artist:6GMYJwaziB4ekv1Y6wCDWS|Soulja Boy                  |\n",
            "|1147236060|3   |0.02291867  |spotify:track:6ZYS6QQxTLsQ6IFXdVx1r4|Ophelia                      |spotify:artist:16oZKvXb6WkQlVAjwo2Wbg|The Lumineers               |\n",
            "|1200435820|0   |0.37113664  |spotify:track:6RcQOut9fWL6FSqeIr5M1r|Hollaback Girl               |spotify:artist:4yiQZ8tQPux8cPriYMWUFP|Gwen Stefani                |\n",
            "|1443089770|0   |0.34089425  |spotify:track:2gam98EZKrF9XuOkU13ApN|Promiscuous                  |spotify:artist:2jw70GZXlAI8QzWeY2bgRc|Nelly Furtado               |\n",
            "|1515245003|1   |0.20238611  |spotify:track:2LawezPeJhN4AWuSB0GtAU|Have You Ever Seen The Rain? |spotify:artist:3IYUhFvPQItj6xySrBmZkd|Creedence Clearwater Revival|\n",
            "|1576044640|1   |0.19342293  |spotify:track:4BP3uh0hFLFRb5cjsgLqDh|Fortunate Son                |spotify:artist:3IYUhFvPQItj6xySrBmZkd|Creedence Clearwater Revival|\n",
            "|1584874836|2   |0.0020310255|spotify:track:5uCax9HTNlzGybIStD3vDh|Say You Won't Let Go         |spotify:artist:4IWBUUAFIplrNtaOHcJPRM|James Arthur                |\n",
            "|1597607487|3   |0.019359006 |spotify:track:15twB7zTglmu0Bg8gW4Mrm|Stubborn Love                |spotify:artist:16oZKvXb6WkQlVAjwo2Wbg|The Lumineers               |\n",
            "|1623601586|2   |0.0022691025|spotify:track:7qiZfU4dY1lWllzX7mPBI3|Shape of You                 |spotify:artist:6eUKZXaKkcviH0Ku9w2n3V|Ed Sheeran                  |\n",
            "|1679230651|3   |0.021518953 |spotify:track:3ZMv9EzGoteNi5Qnx0KpEO|Skinny Love                  |spotify:artist:4LEiUm1SRbFMgfqnQTwUbQ|Bon Iver                    |\n",
            "+----------+----+------------+------------------------------------+-----------------------------+-------------------------------------+----------------------------+\n",
            "only showing top 20 rows\n",
            "\n"
          ]
        }
      ],
      "source": [
        "# Explode the recommendations array to have one row per recommended track\n",
        "rec_df = rec_json.withColumn(\"rec\", explode(\"recommendations\"))\\\n",
        "    .select(\n",
        "        col(\"p_id\"),\n",
        "        col(\"rec.track_id\").alias(\"track_id\"),\n",
        "        col(\"rec.rating\").alias(\"rating\")\n",
        "    )\n",
        "\n",
        "# Join with the track lookup table to get human-readable details\n",
        "rec_mapped = rec_df.join(track_lut, on=\"track_id\", how=\"left\")\n",
        "\n",
        "# Display the results\n",
        "rec_mapped.show(truncate=False)\n"
      ]
    },
    {
      "cell_type": "markdown",
      "metadata": {
        "id": "p2Bdh3HgDlhC"
      },
      "source": [
        "# Extension: Recommending to New Playlists\n",
        "Make recommendations on custom user playlists."
      ]
    },
    {
      "cell_type": "markdown",
      "metadata": {
        "id": "D-w3RBX9VHAD"
      },
      "source": [
        "## Spotify API parsing tool"
      ]
    },
    {
      "cell_type": "code",
      "execution_count": 17,
      "metadata": {
        "id": "zgpCDwshANwJ"
      },
      "outputs": [],
      "source": [
        "import pandas as pd\n",
        "import requests\n",
        "import json\n",
        "\n",
        "# Class to get spotify playlists\n",
        "class Spotify:\n",
        "    # gets the access token for spotify\n",
        "    def _getAccessToken(self) -> str:\n",
        "        # send request for token\n",
        "        response = requests.post(\n",
        "            url=\"https://accounts.spotify.com/api/token\",\n",
        "            headers={\"Content-Type\": \"application/x-www-form-urlencoded\"},\n",
        "            data={\n",
        "                \"grant_type\": \"client_credentials\",\n",
        "                \"client_id\": self.client_id,\n",
        "                \"client_secret\": self.client_secret\n",
        "            }\n",
        "        )\n",
        "\n",
        "        # return access token\n",
        "        if response.status_code == 200:\n",
        "            return response.json()[\"access_token\"]\n",
        "\n",
        "        # raise error\n",
        "        raise Exception(f\"Error: {response.status_code} - {response.json()}\")\n",
        "\n",
        "    # gets information related to playlist\n",
        "    def _getPlMetadata(self, pid: str) -> dict:\n",
        "        # call the api\n",
        "        response = requests.get(\n",
        "            url=f\"https://api.spotify.com/v1/playlists/{pid}\",\n",
        "            headers={\"Authorization\": f\"Bearer {self.access_token}\"}\n",
        "        )\n",
        "\n",
        "        if response.status_code == 200:\n",
        "            playlist = response.json()\n",
        "\n",
        "            return {\n",
        "                \"p_name\": playlist[\"name\"]\n",
        "            }\n",
        "\n",
        "        raise Exception(f\"Error: {response.status_code} - {response.json()}\")\n",
        "\n",
        "    # get all the tracks in the playlist\n",
        "    def _getPlTracks(self, pid: str) -> dict:\n",
        "        # playlist api call helpers\n",
        "        url = f\"https://api.spotify.com/v1/playlists/{pid}/tracks\"\n",
        "        headers = {\"Authorization\": f\"Bearer {self.access_token}\"}\n",
        "\n",
        "        # keep all the tracks\n",
        "        all_tracks = []\n",
        "\n",
        "        # each call provides up to 100 values\n",
        "        while url:\n",
        "            # call api\n",
        "            response = requests.get(url, headers=headers)\n",
        "\n",
        "            if response.status_code == 200:\n",
        "                data = response.json()\n",
        "\n",
        "                # go through all the tracks\n",
        "                for idx, item in enumerate(data[\"items\"]):\n",
        "                    # validate if its a track\n",
        "                    if item[\"track\"][\"track\"]:\n",
        "                        # get track data\n",
        "                        track_data = {\n",
        "                            \"added_at\": item[\"added_at\"],\n",
        "                            \"track_name\": item[\"track\"][\"name\"],\n",
        "                            \"track_uri\": item[\"track\"][\"uri\"],\n",
        "                            \"artist_name\": item[\"track\"][\"artists\"][0][\"name\"],\n",
        "                            \"artist_uri\": item[\"track\"][\"artists\"][0][\"uri\"]\n",
        "                        }\n",
        "\n",
        "                        all_tracks.append(track_data)\n",
        "\n",
        "                url = data[\"next\"]\n",
        "            else:\n",
        "                raise Exception(\n",
        "                    f\"Error: Failed to fetch tracks: {response.status_code}\"\n",
        "                )\n",
        "\n",
        "        return all_tracks\n",
        "\n",
        "    def __init__(self, client_id, client_secret):\n",
        "        self.client_id = client_id\n",
        "        self.client_secret = client_secret\n",
        "        self.access_token = self._getAccessToken()\n",
        "\n",
        "    def getPlaylist(self, pid:str):\n",
        "        metadata = self._getPlMetadata(pid)\n",
        "        tracks = self._getPlTracks(pid)\n",
        "\n",
        "        frame = pd.DataFrame.from_dict(tracks)\n",
        "\n",
        "        for key, value in metadata.items():\n",
        "            frame[key] = value\n",
        "\n",
        "        frame[\"modified_at\"] = pd.to_datetime(frame[\"added_at\"])\\\n",
        "            .astype(\"int64\").max()//1000000000\n",
        "\n",
        "        frame.drop(columns=[\"added_at\"], inplace=True)\n",
        "\n",
        "        return frame\n"
      ]
    },
    {
      "cell_type": "markdown",
      "metadata": {
        "id": "pAngodzwVOad"
      },
      "source": [
        "## Playlist Retrieval and Tabularization\n"
      ]
    },
    {
      "cell_type": "code",
      "execution_count": 18,
      "metadata": {
        "id": "XPE1iEFpGfQr"
      },
      "outputs": [],
      "source": [
        "# get max playlist id\n",
        "MAX_PID = raw_df.agg({\"p_id\": \"max\"}).collect()[0][0]"
      ]
    },
    {
      "cell_type": "code",
      "execution_count": null,
      "metadata": {
        "colab": {
          "base_uri": "https://localhost:8080/"
        },
        "id": "WmyAkTNB-o6o",
        "outputId": "4bce795d-4712-40a7-a92a-4f4ea0f53b71"
      },
      "outputs": [
        {
          "name": "stdout",
          "output_type": "stream",
          "text": [
            "+-----+-------+-----------+------------------------------------+-------------------------+--------------+-------------------------------------+----------+\n",
            "|p_id |p_name |modified_at|track_uri                           |track_name               |artist_name   |artist_uri                           |track_id  |\n",
            "+-----+-------+-----------+------------------------------------+-------------------------+--------------+-------------------------------------+----------+\n",
            "|50000|up high|1739089625 |spotify:track:4Pwjz3DfvfQWV0rO2V8jyh|Bitch, Don’t Kill My Vibe|Kendrick Lamar|spotify:artist:2YZyLoL8N0Wb9xBt1NhZWg|1649569792|\n",
            "|50000|up high|1739089625 |spotify:track:5hM5arv9KDbCHS0k9uqwjr|Borderline               |Tame Impala   |spotify:artist:5INjqkS1o8h1imAzPqGZBb|524024734 |\n",
            "|50000|up high|1739089625 |spotify:track:5M4yti0QxgqJieUYaEXcpw|Eventually               |Tame Impala   |spotify:artist:5INjqkS1o8h1imAzPqGZBb|139391466 |\n",
            "|50000|up high|1739089625 |spotify:track:1fOkmYW3ZFkkjIdOZSf596|Pink Matter              |Frank Ocean   |spotify:artist:2h93pZq0e7k5yf4dywlkpM|608216128 |\n",
            "|50000|up high|1739089625 |spotify:track:4QhWbupniDd44EDtnh2bFJ|Pyramids                 |Frank Ocean   |spotify:artist:2h93pZq0e7k5yf4dywlkpM|1649947132|\n",
            "|50000|up high|1739089625 |spotify:track:3CgZCQyuyxHRMWB9BTwmni|Swim Good                |Frank Ocean   |spotify:artist:2h93pZq0e7k5yf4dywlkpM|1418930673|\n",
            "|50000|up high|1739089625 |spotify:track:1z29O79fng6MitMnPtOsCS|forever                  |moonstalker   |spotify:artist:6F8gFmltBPCaKdSy8DrH4K|591186856 |\n",
            "|50000|up high|1739089625 |spotify:track:1GO5INaTsHxBZ77Mlk755E|Perspectives             |orbit         |spotify:artist:6aEgar707cpB5zzGyZlyRv|561655598 |\n",
            "|50000|up high|1739089625 |spotify:track:0zYkf4pCiGAhEp5Z3iUkml|'Til It's Over           |Anderson .Paak|spotify:artist:3jK9MiCrA42lLAdMGUZpwa|1218138398|\n",
            "|50000|up high|1739089625 |spotify:track:3xKsf9qdS1CyvXSMEid6g8|Pink + White             |Frank Ocean   |spotify:artist:2h93pZq0e7k5yf4dywlkpM|1566995528|\n",
            "+-----+-------+-----------+------------------------------------+-------------------------+--------------+-------------------------------------+----------+\n",
            "only showing top 10 rows\n",
            "\n"
          ]
        }
      ],
      "source": [
        "playlist_ids = [\n",
        "    \"2uByAv6dvHWgmSlhtbRAoA\",\n",
        "    \"4l2aGNlWpQmPsqVC68xnjv\",\n",
        "    \"4rQryQheY6YvdOGB2OLYg6\",\n",
        "    \"0qTRBbSEEVCgap2XtnBPVL\",\n",
        "]\n",
        "\n",
        "# Can generate your own the spotify developers page\n",
        "spotify = Spotify(\n",
        "    client_id=\"SECRET\",\n",
        "    client_secret=\"SECRET\"\n",
        ")\n",
        "\n",
        "# create list of dataframes\n",
        "user_playlists = []\n",
        "\n",
        "# add new dataframes\n",
        "for idx, playlist_id in enumerate(playlist_ids):\n",
        "    user_playlists.append(spotify.getPlaylist(playlist_id))\n",
        "    user_playlists[idx][\"p_id\"] = MAX_PID + idx + 1\n",
        "\n",
        "# combine the dataframes\n",
        "user_pd_df = pd.concat(user_playlists)\n",
        "\n",
        "# order the columns\n",
        "user_pd_df = user_pd_df[[\n",
        "    \"p_id\", \"p_name\", \"modified_at\",\n",
        "    \"track_uri\", \"track_name\", \"artist_name\", \"artist_uri\"\n",
        "]]\n",
        "\n",
        "# convert to spark\n",
        "user_pl_df = spark.createDataFrame(user_pd_df)\n",
        "user_pl_df = user_pl_df.withColumn(\"track_id\", decode_uri(col(\"track_uri\")))\n",
        "\n",
        "# show\n",
        "user_pl_df.show(10, truncate=False)"
      ]
    },
    {
      "cell_type": "markdown",
      "metadata": {
        "id": "4EFZKM7sVYvx"
      },
      "source": [
        "# Recommend Songs to New Playlists"
      ]
    },
    {
      "cell_type": "code",
      "execution_count": 20,
      "metadata": {
        "colab": {
          "base_uri": "https://localhost:8080/"
        },
        "id": "IXw_1ZodE_k1",
        "outputId": "44b49001-aa51-4633-b261-f30ff7db8f78"
      },
      "outputs": [
        {
          "name": "stdout",
          "output_type": "stream",
          "text": [
            "+-----+----------+------------+------------------------------+------------------------------------+----------------+-------------------------------------+\n",
            "|p_id |track_id  |score       |track_name                    |track_uri                           |artist_name     |artist_uri                           |\n",
            "+-----+----------+------------+------------------------------+------------------------------------+----------------+-------------------------------------+\n",
            "|50000|394565429 |0.11989869  |HUMBLE.                       |spotify:track:7KXjTSCq5nL1LoYtL7XAwS|Kendrick Lamar  |spotify:artist:2YZyLoL8N0Wb9xBt1NhZWg|\n",
            "|50000|447907122 |0.13727513  |White Iverson                 |spotify:track:6eT7xZZlB2mwyzJ2sUKG6w|Post Malone     |spotify:artist:246dkjvS1zLTtiykXe5h60|\n",
            "|50001|484207603 |0.010996327 |Shut Up and Dance             |spotify:track:4kbj5MwxO1bq9wjT5g9HaA|WALK THE MOON   |spotify:artist:6DIS6PRrLS3wbnZsf7vYic|\n",
            "|50001|644352059 |0.011401648 |Hey Ya! - Radio Mix / Club Mix|spotify:track:2PpruBYCo4H7WOBJ7Q2EwM|OutKast         |spotify:artist:1G9G7WwrXka3Z1r7aIDjI7|\n",
            "|50001|820486767 |0.0122947795|Yeah!                         |spotify:track:0XUfyU2QviPAs6bxSpXYG4|Usher           |spotify:artist:23zg3TcAtWQy7J6upgbUnj|\n",
            "|50000|905937734 |0.15432532  |No Role Modelz                |spotify:track:62vpWI1CHwFy7tMIcSStl8|J. Cole         |spotify:artist:6l3HvQ5sa6mXTsMTB19rO5|\n",
            "|50001|2058183284|0.013145004 |Lean On (feat. MØ & DJ Snake) |spotify:track:4WjH9Bzt3kx7z8kl0awxh4|Major Lazer     |spotify:artist:738wLrAtLtCtFOLvQBXOXp|\n",
            "|50001|7168584   |0.011782379 |Mr. Brightside                |spotify:track:7oK9VyNzrYvRFo7nQEYkWN|The Killers     |spotify:artist:0C0XlULifJtAgn6ZNCW2eu|\n",
            "|50000|119140909 |0.12120276  |Broccoli (feat. Lil Yachty)   |spotify:track:7yyRTcZmCiyzzJlNzGC9Ol|DRAM            |spotify:artist:5M0lbkGluOPXLeFjApw8r8|\n",
            "|50001|423084445 |0.011617211 |Party In The U.S.A.           |spotify:track:5Q0Nhxo0l2bP3pNjpGJwV1|Miley Cyrus     |spotify:artist:5YGY8feqx7naU7z4HrwZM6|\n",
            "|50000|685005132 |0.1254286   |Location                      |spotify:track:152lZdxL1OR0ZMW6KquMif|Khalid          |spotify:artist:6LuN9FCkKOj5PcnpouEgny|\n",
            "|50001|843988539 |0.01080891  |Roses                         |spotify:track:6O6M7pJLABmfBRoGZMu76Y|The Chainsmokers|spotify:artist:69GGBxA162lTqCwzJG5jLp|\n",
            "|50000|1039687685|0.1278151   |Wet Dreamz                    |spotify:track:6Ius4TC0L3cN74HT7ENE6e|J. Cole         |spotify:artist:6l3HvQ5sa6mXTsMTB19rO5|\n",
            "|50000|1146736850|0.122997314 |Thinkin Bout You              |spotify:track:7DfFc7a6Rwfi3YQMRbDMau|Frank Ocean     |spotify:artist:2h93pZq0e7k5yf4dywlkpM|\n",
            "|50000|1262786107|0.12257328  |Jumpman                       |spotify:track:27GmP9AWRs744SzKcpJsTZ|Drake           |spotify:artist:3TVXtAsR1Inumwj472S9r4|\n",
            "|50002|1262786107|0.29036525  |Jumpman                       |spotify:track:27GmP9AWRs744SzKcpJsTZ|Drake           |spotify:artist:3TVXtAsR1Inumwj472S9r4|\n",
            "|50000|1270665610|0.1389641   |Don't                         |spotify:track:3pXF1nA74528Edde4of9CC|Bryson Tiller   |spotify:artist:2EMAnMvWE2eb56ToJVfCWs|\n",
            "|50001|1413207948|0.010890631 |TiK ToK                       |spotify:track:5OMwQFBcte0aWFJFqrr5oj|Kesha           |spotify:artist:6LqNN22kT3074XbTVUrhzX|\n",
            "|50001|1586011098|0.01146803  |Uptown Funk                   |spotify:track:32OlwWuMpZ6b0aN2RZOeMS|Mark Ronson     |spotify:artist:3hv9jJF3adDNsBSIQDqcjp|\n",
            "|50001|1602318285|0.010944765 |Gold Digger                   |spotify:track:5XJJdNPkwmbUwE79gv0NxK|Kanye West      |spotify:artist:5K4W6rqBFWDnAN6FQUkS6x|\n",
            "+-----+----------+------------+------------------------------+------------------------------------+----------------+-------------------------------------+\n",
            "only showing top 20 rows\n",
            "\n"
          ]
        }
      ],
      "source": [
        "from pyspark.sql.functions import col, collect_list, explode\n",
        "from pyspark.sql.types import ArrayType, FloatType\n",
        "from pyspark.sql import Window\n",
        "import pyspark.sql.functions as F\n",
        "import numpy as np\n",
        "\n",
        "# get latent factors\n",
        "item_factors_df = model.itemFactors.withColumnRenamed(\"id\", \"track_id\")\n",
        "\n",
        "# get user playlist id and track id\n",
        "playlist_tracks = user_pl_df.select(\"p_id\", \"track_id\").distinct()\n",
        "\n",
        "# merge tracks with factors\n",
        "playlist_with_factors = playlist_tracks.join(item_factors_df, on=\"track_id\", how=\"inner\")\n",
        "\n",
        "# average latent factors for each vector\n",
        "def average_vectors(vectors):\n",
        "    return np.mean(np.array(vectors), axis=0).tolist()\n",
        "\n",
        "# to user defined function\n",
        "avg_udf = F.udf(average_vectors, ArrayType(FloatType()))\n",
        "\n",
        "# compute average vectors\n",
        "playlist_latent = playlist_with_factors.groupBy(\"p_id\") \\\n",
        "    .agg(collect_list(\"features\").alias(\"features_list\")) \\\n",
        "    .withColumn(\"user_features\", avg_udf(col(\"features_list\")))\n",
        "\n",
        "# dot two vectors: shows you how aligned they are\n",
        "def dot_product(v1, v2):\n",
        "    return float(np.dot(np.array(v1), np.array(v2)))\n",
        "\n",
        "# to udf\n",
        "dot_udf = F.udf(dot_product, FloatType())\n",
        "\n",
        "# get score: dot of user features and actual features\n",
        "recommendations_all = playlist_latent.crossJoin(item_factors_df) \\\n",
        "    .withColumn(\"score\", dot_udf(col(\"user_features\"), col(\"features\")))\n",
        "\n",
        "# remove existing tracks from being recommended\n",
        "recommendations_filtered = recommendations_all.join(\n",
        "    playlist_tracks,\n",
        "    on=[\"p_id\", \"track_id\"],\n",
        "    how=\"left_anti\"\n",
        ")\n",
        "\n",
        "# recommenend top 10 for each playlist\n",
        "windowSpec = Window.partitionBy(\"p_id\").orderBy(F.col(\"score\").desc())\n",
        "recommendations_top = recommendations_filtered.withColumn(\"rank\", F.row_number().over(windowSpec)) \\\n",
        "    .filter(F.col(\"rank\") <= 10)\n",
        "\n",
        "# join with lookup table\n",
        "final_recommendations = recommendations_top.join(track_lut, on=\"track_id\", how=\"left\")\n",
        "\n",
        "# Show the final recommendations for each new playlist\n",
        "final_recommendations.select(\"p_id\", \"track_id\", \"score\", \"track_name\", \"track_uri\", \"artist_name\", \"artist_uri\") \\\n",
        "    .show(truncate=False)\n"
      ]
    }
  ],
  "metadata": {
    "colab": {
      "provenance": [],
      "toc_visible": true
    },
    "kernelspec": {
      "display_name": "Python 3",
      "name": "python3"
    },
    "language_info": {
      "name": "python"
    }
  },
  "nbformat": 4,
  "nbformat_minor": 0
}
